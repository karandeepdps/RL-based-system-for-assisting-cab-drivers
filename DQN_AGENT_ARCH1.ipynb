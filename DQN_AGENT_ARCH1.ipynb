{
 "cells": [
  {
   "cell_type": "markdown",
   "metadata": {},
   "source": [
    "### Cab-Driver Agent"
   ]
  },
  {
   "cell_type": "markdown",
   "metadata": {},
   "source": [
    "Cab drivers, like most people, are incentivised by a healthy growth in income. The goal of your project is to build an RL-based algorithm which can help cab drivers maximise their profits by improving their decision-making process on the field."
   ]
  },
  {
   "cell_type": "code",
   "execution_count": 1,
   "metadata": {},
   "outputs": [],
   "source": [
    "# Importing libraries\n",
    "import numpy as np\n",
    "import random\n",
    "import math\n",
    "from collections import deque\n",
    "import collections\n",
    "import pickle\n",
    "\n",
    "# for building DQN model\n",
    "from keras import layers\n",
    "from keras import Sequential\n",
    "from keras.layers import Dense, Activation, Flatten\n",
    "from keras.optimizers import Adam\n",
    "\n",
    "# for plotting graphs\n",
    "import matplotlib.pyplot as plt"
   ]
  },
  {
   "cell_type": "markdown",
   "metadata": {},
   "source": [
    "#### Basic environment parameters"
   ]
  },
  {
   "cell_type": "code",
   "execution_count": 2,
   "metadata": {},
   "outputs": [],
   "source": [
    "# Defining hyperparameters\n",
    "m = 5 # number of cities, ranges from 1 ..... m\n",
    "t = 24 # number of hours, ranges from 0 .... t-1\n",
    "d = 7  # number of days, ranges from 0 ... d-1\n",
    "C = 5 # Per kilometer fuel and other costs\n",
    "R = 9 # per kilometer revenue from a passenger"
   ]
  },
  {
   "cell_type": "code",
   "execution_count": 3,
   "metadata": {},
   "outputs": [],
   "source": [
    "# Loading the time matrix provided\n",
    "Time_matrix = np.load(r\"C:\\Users\\rashi\\Downloads\\RL car project\\TM.npy\")"
   ]
  },
  {
   "cell_type": "markdown",
   "metadata": {},
   "source": [
    "#### Tracking the state-action pairs for checking Q-value convergence"
   ]
  },
  {
   "cell_type": "code",
   "execution_count": 4,
   "metadata": {},
   "outputs": [],
   "source": [
    "states_track = collections.defaultdict(dict)\n",
    "def initialise_tracking_states():\n",
    "    sample_q_values = [((3,0,2),(3,1)),((1,6,3),(2,3)),((2,2,2),(3,2)),((3,10,6),(3,4)),((0,20,3),(1,4)), ((1,23,3),(1,4))]    #select any 4 Q-values\n",
    "    for q_values in sample_q_values:\n",
    "        state = q_values[0]\n",
    "        action = q_values[1]\n",
    "        states_track[state][action] = []    #this is an array which will have appended values of that state-action pair for every 2000th episode         "
   ]
  },
  {
   "cell_type": "code",
   "execution_count": 5,
   "metadata": {},
   "outputs": [],
   "source": [
    "initialise_tracking_states() # initialised all the state-action pairs tracked"
   ]
  },
  {
   "cell_type": "code",
   "execution_count": 6,
   "metadata": {},
   "outputs": [],
   "source": [
    "# This function will append latest Q-values of the 6 Q-values which are being tracked for checking convergence\n",
    "\n",
    "def save_tracking_states():\n",
    "    for state in states_track.keys():\n",
    "        for action in states_track[state].keys():\n",
    "            state_encod = env.state_encod_arch1(state)\n",
    "            state_encod = np.reshape(state_encod, [1, agent.state_size])\n",
    "            prediction = agent.model.predict(state_encod)\n",
    "            action_list = list(action)\n",
    "            #print(\"Action\", action_list)\n",
    "            action_idx = env.action_space.index(action_list)\n",
    "            #print(\"Action index\", action_idx)\n",
    "            Q = prediction[0][action_idx]\n",
    "            #print(\"Q\", Q)\n",
    "            states_track[state][action].append(Q)          "
   ]
  },
  {
   "cell_type": "code",
   "execution_count": 7,
   "metadata": {},
   "outputs": [],
   "source": [
    "#Defining a function to save the object as a pickle file\n",
    "def save_obj(obj, name ):\n",
    "    with open(name + '.pkl', 'wb') as f:\n",
    "        pickle.dump(obj, f, pickle.HIGHEST_PROTOCOL)"
   ]
  },
  {
   "cell_type": "markdown",
   "metadata": {},
   "source": [
    "## Building Agent Class"
   ]
  },
  {
   "cell_type": "markdown",
   "metadata": {},
   "source": [
    "### Agent Class\n",
    "\n",
    "If you are using this framework, you need to fill the following to complete the following code block:\n",
    "1. State and Action Size\n",
    "2. Hyperparameters\n",
    "3. Create a neural-network model in function 'build_model()'\n",
    "4. Define epsilon-greedy strategy in function 'get_action()'\n",
    "5. Complete the function 'append_sample()'. This function appends the recent experience tuple <state, action, reward, new-state> to the memory\n",
    "6. Complete the 'train_model()' function with following logic:\n",
    "   - If the memory size is greater than mini-batch size, you randomly sample experiences from memory as per the mini-batch size and do the following:\n",
    "      - Initialise your input and output batch for training the model\n",
    "      - Calculate the target Q value for each sample: reward + gamma*max(Q(s'a,))\n",
    "      - Get Q(s', a) values from the last trained model\n",
    "      - Update the input batch as your encoded state and output batch as your Q-values\n",
    "      - Then fit your DQN model using the updated input and output batch."
   ]
  },
  {
   "cell_type": "code",
   "execution_count": 8,
   "metadata": {},
   "outputs": [],
   "source": [
    "class DQNAgent:\n",
    "    def __init__(self, state_size, action_size):\n",
    "\n",
    "        # Define size of state and action\n",
    "        self.state_size = m+t+d \n",
    "        self.action_size = m*(m-1) + 1\n",
    "        self.action_space = [[i,j] for i in range(m) for j in range(m) if i!=j or i==0]\n",
    "\n",
    "        # These are hyper parameters for the DQN\n",
    "        self.discount_factor = 0.95\n",
    "        self.learning_rate = 0.001        \n",
    "        self.epsilon_max = 1.0\n",
    "        self.epsilon_decay = 0.0003\n",
    "        self.epsilon_min = 0.00000001\n",
    "        \n",
    "        self.batch_size = 32        \n",
    "        # create replay memory using deque\n",
    "        self.memory = deque(maxlen=2000)\n",
    "\n",
    "        # create main model and target model\n",
    "        self.model = self.build_model()\n",
    "\n",
    "        \n",
    "\n",
    "    # approximate Q function using Neural Network\n",
    "    def build_model(self):\n",
    "        model = Sequential()\n",
    "        model.add(Dense(200, input_dim = self.state_size,activation ='relu'))\n",
    "        model.add(Dense(150,activation ='relu'))\n",
    "        model.add(Dense(100,activation ='relu'))\n",
    "        model.add(Dense(self.action_size,activation ='linear'))\n",
    "        model.compile(loss='mse',optimizer=Adam(lr=self.learning_rate))\n",
    "        model.summary\n",
    "        return model\n",
    "\n",
    "\n",
    "\n",
    "    def get_action(self, state, episode):\n",
    "    # get action from model using epsilon-greedy policy\n",
    "    # Decay in ε after we generate each sample from the environment\n",
    "        poss_actions_idx, poss_actions = env.requests(state)\n",
    "        epsilon = self.epsilon_min + (self.epsilon_max - self.epsilon_min) * np.exp(-self.epsilon_decay*episode)\n",
    "        \n",
    "    \n",
    "        if np.random.rand() <= epsilon: # Exploration: randomly choosing and action      \n",
    "            action_idx = np.random.choice(poss_actions_idx)\n",
    "            action = self.action_space[action_idx]\n",
    "        else: #Exploitation: this gets the action corresponding to max q-value of current state\n",
    "            state_encod = env.state_encod_arch1(state)\n",
    "            state_encod = np.reshape(state_encod, [1, self.state_size])\n",
    "            q_value = self.model.predict(state_encod)\n",
    "            q_value = q_value[0][poss_actions_idx]\n",
    "            action_idx = np.argmax(q_value)\n",
    "            action = poss_actions[action_idx]\n",
    "            \n",
    "        return action, epsilon\n",
    "        \n",
    "        \n",
    "    # save sample <s,a,r,s'> to the replay memory \n",
    "    def append_sample(self, state, action, reward, next_state, terminal_state):\n",
    "        self.memory.append((state, action, reward, next_state, terminal_state))\n",
    "    \n",
    "\n",
    "    # pick samples randomly from replay memory (with batch_size) and train the network\n",
    "    def train_model(self):\n",
    "  \n",
    "\n",
    "        if len(self.memory) < self.batch_size:\n",
    "            return\n",
    "        \n",
    "        # Sample batch from the memory\n",
    "        mini_batch = random.sample(self.memory, self.batch_size)\n",
    "        update_output = np.zeros((self.batch_size, self.state_size))\n",
    "        update_input = np.zeros((self.batch_size, self.state_size))\n",
    "\n",
    "        actions, rewards, terminal_states = [], [], []\n",
    "\n",
    "        \n",
    "        \n",
    "        for i in range(self.batch_size):\n",
    "            \n",
    "            state, action, reward, next_state, terminal_state = mini_batch[i]\n",
    "            \n",
    "            actions.append(self.action_space.index(action))\n",
    "            rewards.append(reward)\n",
    "            terminal_states.append(terminal_state)\n",
    "            \n",
    "\n",
    "            update_input[i] = env.state_encod_arch1(state)\n",
    "            update_output[i] = env.state_encod_arch1(next_state)\n",
    "                \n",
    "        target = self.model.predict(update_input)\n",
    "        target_val = self.model.predict(update_output)\n",
    "        \n",
    "        # get your target Q-value on the basis of terminal state\n",
    "        for i in range(self.batch_size):\n",
    "            if terminal_states[i]:\n",
    "                #print(True)\n",
    "                target[i][actions[i]] = rewards[i]\n",
    "                \n",
    "            else:\n",
    "                target[i][actions[i]] = rewards[i] + self.discount_factor * (np.amax(target_val[i]))\n",
    "\n",
    "        self.model.fit(update_input, target, batch_size=self.batch_size, epochs=1, verbose=0)\n",
    "\n",
    "                \n",
    "                \n",
    "    def load(self, name):\n",
    "        self.model.load_weights(name)\n",
    "        \n",
    "                    \n",
    "    def save(self, name):\n",
    "        self.model.save_weights(name)"
   ]
  },
  {
   "cell_type": "markdown",
   "metadata": {},
   "source": [
    "### DQN block"
   ]
  },
  {
   "cell_type": "code",
   "execution_count": 9,
   "metadata": {},
   "outputs": [],
   "source": [
    "# Importing the environment\n",
    "from Env import CabDriver"
   ]
  },
  {
   "cell_type": "code",
   "execution_count": 10,
   "metadata": {},
   "outputs": [],
   "source": [
    "# Initialising the environment\n",
    "env = CabDriver()\n",
    "# get size of state and action from environment\n",
    "state_size = len(env.state_space)\n",
    "action_size = len(env.action_space)\n",
    "\n",
    "# agent needs to be initialised outside the loop since the DQN\n",
    "# network will be initialised along with the agent\n",
    "agent = DQNAgent(state_size, action_size)\n",
    "\n",
    "# tracking average reward per episode = total rewards in an episode/ total steps in an episode\n",
    "avg_reward = []\n",
    "\n",
    "# tracking total rewards per episode\n",
    "total_reward  = []"
   ]
  },
  {
   "cell_type": "code",
   "execution_count": null,
   "metadata": {},
   "outputs": [
    {
     "name": "stdout",
     "output_type": "stream",
     "text": [
      "episode: 0   score: 124.0   memory length: 148   epsilon: 1.0\n",
      "episode: 25   score: -246.0   memory length: 2000   epsilon: 0.9925280548938579\n",
      "episode: 50   score: -101.0   memory length: 2000   epsilon: 0.9851119397519432\n",
      "episode: 75   score: 156.0   memory length: 2000   epsilon: 0.9777512374158239\n",
      "episode: 100   score: -50.0   memory length: 2000   epsilon: 0.9704455338440529\n",
      "episode: 125   score: -199.0   memory length: 2000   epsilon: 0.9631944180888776\n",
      "episode: 150   score: -179.0   memory length: 2000   epsilon: 0.9559974822731252\n",
      "episode: 175   score: -216.0   memory length: 2000   epsilon: 0.948854321567258\n",
      "episode: 200   score: -245.0   memory length: 2000   epsilon: 0.9417645341666034\n",
      "episode: 225   score: -197.0   memory length: 2000   epsilon: 0.9347277212687504\n",
      "episode: 250   score: -187.0   memory length: 2000   epsilon: 0.927743487051118\n",
      "episode: 275   score: 54.0   memory length: 2000   epsilon: 0.9208114386486902\n",
      "episode: 300   score: -354.0   memory length: 2000   epsilon: 0.9139311861319164\n",
      "episode: 325   score: -174.0   memory length: 2000   epsilon: 0.9071023424847783\n",
      "episode: 350   score: 56.0   memory length: 2000   epsilon: 0.9003245235830204\n",
      "episode: 375   score: -99.0   memory length: 2000   epsilon: 0.8935973481725422\n",
      "episode: 400   score: -175.0   memory length: 2000   epsilon: 0.8869204378479532\n",
      "episode: 425   score: -18.0   memory length: 2000   epsilon: 0.880293417031287\n",
      "episode: 450   score: 207.0   memory length: 2000   epsilon: 0.8737159129508754\n",
      "episode: 475   score: -21.0   memory length: 2000   epsilon: 0.8671875556203794\n",
      "episode: 500   score: -411.0   memory length: 2000   epsilon: 0.860707977817978\n",
      "episode: 525   score: -136.0   memory length: 2000   epsilon: 0.8542768150657114\n",
      "episode: 550   score: 42.0   memory length: 2000   epsilon: 0.8478937056089788\n",
      "episode: 575   score: -133.0   memory length: 2000   epsilon: 0.8415582903961905\n",
      "episode: 600   score: 111.0   memory length: 2000   epsilon: 0.8352702130585699\n",
      "episode: 625   score: -32.0   memory length: 2000   epsilon: 0.8290291198901092\n",
      "episode: 650   score: -315.0   memory length: 2000   epsilon: 0.8228346598276718\n",
      "episode: 675   score: 67.0   memory length: 2000   epsilon: 0.816686484431246\n",
      "episode: 700   score: -138.0   memory length: 2000   epsilon: 0.8105842478643446\n",
      "episode: 725   score: -196.0   memory length: 2000   epsilon: 0.8045276068745518\n",
      "episode: 750   score: 119.0   memory length: 2000   epsilon: 0.7985162207742149\n",
      "episode: 775   score: -215.0   memory length: 2000   epsilon: 0.7925497514212807\n",
      "episode: 800   score: 131.0   memory length: 2000   epsilon: 0.7866278632002749\n",
      "episode: 825   score: 214.0   memory length: 2000   epsilon: 0.7807502230034236\n",
      "episode: 850   score: 93.0   memory length: 2000   epsilon: 0.774916500211916\n",
      "episode: 875   score: -87.0   memory length: 2000   epsilon: 0.7691263666773068\n",
      "episode: 900   score: 161.0   memory length: 2000   epsilon: 0.7633794967030584\n",
      "episode: 925   score: 117.0   memory length: 2000   epsilon: 0.7576755670262189\n",
      "episode: 950   score: 130.0   memory length: 2000   epsilon: 0.75201425679924\n",
      "episode: 975   score: 151.0   memory length: 2000   epsilon: 0.7463952475719293\n",
      "episode: 1000   score: 13.0   memory length: 2000   epsilon: 0.7408182232735356\n",
      "episode: 1025   score: 228.0   memory length: 2000   epsilon: 0.7352828701949721\n",
      "episode: 1050   score: -83.0   memory length: 2000   epsilon: 0.7297888769711681\n",
      "episode: 1075   score: 182.0   memory length: 2000   epsilon: 0.7243359345635565\n",
      "episode: 1100   score: -81.0   memory length: 2000   epsilon: 0.7189237362426889\n"
     ]
    }
   ],
   "source": [
    "Episodes = 10000\n",
    "for episode in range(0,Episodes):\n",
    "    \n",
    "    # tracking total rewards, step count\n",
    "    tot_reward = 0\n",
    "    step_count = 0\n",
    "    state = env.reset()\n",
    "    terminal_state = False\n",
    "    \n",
    "    while not terminal_state:\n",
    "        \n",
    "\n",
    "        action, epsilon = agent.get_action(state, episode)\n",
    "        reward = env.reward_func(state, action, Time_matrix)\n",
    "        \n",
    "        next_state, terminal_state = env.next_state_func(state, action, Time_matrix)\n",
    "\n",
    "        # save the sample <s, a, r, s'> to the replay memory\n",
    "        agent.append_sample(state, action, reward, next_state, terminal_state)\n",
    "        \n",
    "        # every time step do the training\n",
    "        agent.train_model()\n",
    "        tot_reward += reward\n",
    "        state = next_state\n",
    "        step_count += 1\n",
    "        \n",
    "        # Store the rewards\n",
    "        if terminal_state and episode % 25 ==0:\n",
    "            avg_reward.append(tot_reward/step_count)\n",
    "            total_reward.append(tot_reward)\n",
    "            print(\"episode:\", episode, \"  score:\", tot_reward, \"  memory length:\",\n",
    "                      len(agent.memory), \"  epsilon:\", epsilon)\n",
    "    \n",
    "    if episode % 200 == 0:\n",
    "            agent.save(\"./cab_driver.h5\")\n",
    "\n",
    "    if episode % 25 == 0:   #every 2000th episode\n",
    "        save_obj(avg_reward,'Rewards')   \n",
    "        save_tracking_states()\n",
    "        save_obj(states_track,'States_tracked')   \n",
    "        \n",
    "    \n",
    "    if episode % 10000 ==0 and episode !=0:\n",
    "        plt.plot(list(range(len(avg_reward))), avg_reward)\n",
    "        plt.show()\n",
    "        \n",
    "\n",
    "        "
   ]
  },
  {
   "cell_type": "code",
   "execution_count": null,
   "metadata": {},
   "outputs": [],
   "source": []
  },
  {
   "cell_type": "code",
   "execution_count": null,
   "metadata": {},
   "outputs": [],
   "source": []
  },
  {
   "cell_type": "markdown",
   "metadata": {},
   "source": [
    "### Plotting results"
   ]
  },
  {
   "cell_type": "code",
   "execution_count": null,
   "metadata": {},
   "outputs": [],
   "source": [
    "# Plotting average rewards\n",
    "# x-values = 10000 episodes tracked after every 25th episode\n",
    "plt.plot(list(range(len(avg_reward))), avg_reward)\n",
    "plt.ylabel(\"Average Reward\")\n",
    "plt.show()"
   ]
  },
  {
   "cell_type": "code",
   "execution_count": null,
   "metadata": {},
   "outputs": [],
   "source": [
    "# Plotting total rewards\n",
    "plt.plot(list(range(len(total_reward))), total_reward)\n",
    "plt.ylabel(\"Total reward\")\n",
    "plt.show()"
   ]
  },
  {
   "cell_type": "code",
   "execution_count": null,
   "metadata": {},
   "outputs": [],
   "source": []
  },
  {
   "attachments": {
    "image.png": {
     "image/png": "[encoded data removed]"
    }
   },
   "cell_type": "markdown",
   "metadata": {},
   "source": [
    "### Intuition behind  total expected reward in an episode\n",
    "\n",
    "![image.png](attachment:image.png) "
   ]
  },
  {
   "cell_type": "markdown",
   "metadata": {},
   "source": [
    "## Checking Q-values"
   ]
  },
  {
   "cell_type": "code",
   "execution_count": null,
   "metadata": {},
   "outputs": [],
   "source": [
    "plt.figure(0, figsize=(16,7))\n",
    "\n",
    "xaxis = np.asarray(range(len(states_track[(3,0,2)][(3,1)])))\n",
    "plt.subplot(241)\n",
    "plt.plot(xaxis,np.asarray(states_track[(3,0,2)][(3,1)]))\n",
    "plt.ylabel(\"Q-value\")\n",
    "plt.show\n",
    "\n",
    "xaxis = np.asarray(range(len(states_track[(1,6,3)][(2,3)])))\n",
    "plt.subplot(242)\n",
    "plt.plot(xaxis,np.asarray(states_track[(1,6,3)][(2,3)]))\n",
    "plt.ylabel(\"Q-value\")\n",
    "plt.show\n",
    "\n",
    "xaxis = np.asarray(range(len(states_track[(2,2,2)][(3,2)])))\n",
    "plt.subplot(243)\n",
    "plt.plot(xaxis,np.asarray(states_track[(2,2,2)][(3,2)]))\n",
    "plt.ylabel(\"Q-value\")\n",
    "plt.show\n",
    "\n",
    "xaxis = np.asarray(range(len(states_track[(3,10,6)][(3,4)])))\n",
    "plt.subplot(244)\n",
    "plt.plot(xaxis,np.asarray(states_track[(3,10,6)][(3,4)]))\n",
    "plt.ylabel(\"Q-value\")\n",
    "plt.show\n",
    "\n",
    "xaxis = np.asarray(range(len(states_track[(0,20,3)][(1,4)])))\n",
    "plt.subplot(245)\n",
    "plt.plot(xaxis,np.asarray(states_track[(0,20,3)][(1,4)]))\n",
    "plt.ylabel(\"Q-value\")\n",
    "plt.show\n"
   ]
  },
  {
   "cell_type": "code",
   "execution_count": null,
   "metadata": {},
   "outputs": [],
   "source": [
    "plt.figure(0, figsize=(16,7))\n",
    "\n",
    "xaxis = np.asarray(range(500))\n",
    "plt.subplot(241)\n",
    "plt.plot(xaxis,np.asarray(states_track[(3,0,2)][(3,1)])[-500:])\n",
    "plt.ylabel(\"Q-value\")\n",
    "plt.show\n",
    "\n",
    "xaxis = np.asarray(range(500))\n",
    "plt.subplot(242)\n",
    "plt.plot(xaxis,np.asarray(states_track[(1,6,3)][(2,3)])[-500:])\n",
    "plt.ylabel(\"Q-value\")\n",
    "plt.show\n",
    "\n",
    "xaxis = np.asarray(range(500))\n",
    "plt.subplot(243)\n",
    "plt.plot(xaxis,np.asarray(states_track[(2,2,2)][(3,2)])[-500:])\n",
    "plt.ylabel(\"Q-value\")\n",
    "plt.show\n",
    "\n",
    "xaxis = np.asarray(range(500))\n",
    "plt.subplot(244)\n",
    "plt.plot(xaxis,np.asarray(states_track[(3,10,6)][(3,4)])[-500:])\n",
    "plt.ylabel(\"Q-value\")\n",
    "plt.show\n",
    "\n",
    "xaxis = np.asarray(range(500))\n",
    "plt.subplot(245)\n",
    "plt.plot(xaxis,np.asarray(states_track[(0,20,3)][(1,4)])[-500:])\n",
    "plt.ylabel(\"Q-value\")\n",
    "plt.show"
   ]
  },
  {
   "cell_type": "markdown",
   "metadata": {},
   "source": [
    "#### Interpreting Q-values"
   ]
  },
  {
   "cell_type": "code",
   "execution_count": null,
   "metadata": {},
   "outputs": [],
   "source": [
    "# (3,0,2), # (0, 10, 5)\n",
    "\n",
    "state_encod = env.state_encod_arch1([3,0,2])\n",
    "state_encod = np.reshape(state_encod, [1, agent.state_size])\n",
    "prediction = agent.model.predict(state_encod)"
   ]
  },
  {
   "cell_type": "code",
   "execution_count": null,
   "metadata": {},
   "outputs": [],
   "source": [
    "actions = env.action_space"
   ]
  },
  {
   "cell_type": "code",
   "execution_count": null,
   "metadata": {},
   "outputs": [],
   "source": [
    "dict = {}\n",
    "for i,j in enumerate(actions):\n",
    "    dict[tuple(j)]=prediction[0][i]\n",
    "    \n",
    "print(dict)\n",
    "print(max(dict,key=dict.get))"
   ]
  },
  {
   "cell_type": "code",
   "execution_count": null,
   "metadata": {},
   "outputs": [],
   "source": [
    "Time_matrix[3]"
   ]
  },
  {
   "cell_type": "markdown",
   "metadata": {},
   "source": [
    "#### Epsilon-decay sample function"
   ]
  },
  {
   "cell_type": "code",
   "execution_count": null,
   "metadata": {},
   "outputs": [],
   "source": [
    "time = np.arange(0,10000)\n",
    "epsilon = []\n",
    "for i in range(0,10000):\n",
    "    epsilon.append(0 + (1 - 0) * np.exp(-0.0009*i))"
   ]
  },
  {
   "cell_type": "code",
   "execution_count": null,
   "metadata": {},
   "outputs": [],
   "source": [
    "plt.plot(time, epsilon)\n",
    "plt.show()"
   ]
  },
  {
   "cell_type": "code",
   "execution_count": null,
   "metadata": {},
   "outputs": [],
   "source": []
  }
 ],
 "metadata": {
  "kernelspec": {
   "display_name": "Python 3",
   "language": "python",
   "name": "python3"
  },
  "language_info": {
   "codemirror_mode": {
    "name": "ipython",
    "version": 3
   },
   "file_extension": ".py",
   "mimetype": "text/x-python",
   "name": "python",
   "nbconvert_exporter": "python",
   "pygments_lexer": "ipython3",
   "version": "3.8.8"
  }
 },
 "nbformat": 4,
 "nbformat_minor": 2
}
